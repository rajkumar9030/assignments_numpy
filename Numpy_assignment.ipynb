{
 "cells": [
  {
   "cell_type": "code",
   "execution_count": 76,
   "id": "d9c8b560-a25a-4578-89a8-7a7042daafda",
   "metadata": {},
   "outputs": [
    {
     "data": {
      "text/plain": [
       "array([ 1,  2,  3,  4,  5,  6,  7,  8,  9, 10, 11, 12, 13, 14, 15, 16, 17,\n",
       "       18, 19, 20, 21, 22, 23, 24, 25, 26, 27, 28, 29, 30, 31, 32, 33, 34,\n",
       "       35, 36, 37, 38, 39, 40, 41, 42, 43, 44, 45, 46, 47, 48, 49, 50])"
      ]
     },
     "execution_count": 76,
     "metadata": {},
     "output_type": "execute_result"
    }
   ],
   "source": [
    "#o\tCreate a 1D array of numbers from 10 to 50.\n",
    "import numpy as np\n",
    "arr=np.arange(1,51,1)\n",
    "arr"
   ]
  },
  {
   "cell_type": "code",
   "execution_count": 77,
   "id": "acef67da-874d-4da7-98d6-6538295146f4",
   "metadata": {},
   "outputs": [
    {
     "data": {
      "text/plain": [
       "array([[0.88285422, 0.08109994, 0.8733316 ],\n",
       "       [0.12818812, 0.74844844, 0.09046551],\n",
       "       [0.13599085, 0.44411879, 0.59612001]])"
      ]
     },
     "execution_count": 77,
     "metadata": {},
     "output_type": "execute_result"
    }
   ],
   "source": [
    "#\tCreate a 3x3 array of random numbers between 0 and 1.\n",
    "a1=np.random.rand(3,3)\n",
    "a1"
   ]
  },
  {
   "cell_type": "code",
   "execution_count": 78,
   "id": "7a1e8eae-5b51-4de1-ad65-62e2c3e63684",
   "metadata": {},
   "outputs": [
    {
     "name": "stdout",
     "output_type": "stream",
     "text": [
      "(50,)\n",
      "50\n",
      "int64\n",
      "1\n"
     ]
    }
   ],
   "source": [
    "#o\tFind the shape, size, and data type of the array you created in the previous task.\n",
    "print(arr.shape)\n",
    "print(arr.size)\n",
    "print(arr.dtype)\n",
    "print(arr.ndim)"
   ]
  },
  {
   "cell_type": "code",
   "execution_count": 79,
   "id": "8725836b-6389-4887-a594-7a3d719d5e14",
   "metadata": {},
   "outputs": [
    {
     "name": "stdout",
     "output_type": "stream",
     "text": [
      "(3, 3)\n",
      "9\n",
      "float64\n",
      "2\n"
     ]
    }
   ],
   "source": [
    "#o\tFind the shape, size, and data type of the array you created in the previous task.\n",
    "print(a1.shape)\n",
    "print(a1.size)\n",
    "print(a1.dtype)\n",
    "print(a1.ndim)"
   ]
  },
  {
   "cell_type": "code",
   "execution_count": 80,
   "id": "33115453-30fa-4c82-afd0-f4ff9927ac79",
   "metadata": {},
   "outputs": [
    {
     "data": {
      "text/plain": [
       "array([ 6,  7,  8,  9, 10, 11, 12, 13, 14, 15, 16, 17, 18, 19, 20, 21, 22,\n",
       "       23, 24, 25, 26, 27, 28, 29, 30, 31, 32, 33, 34, 35, 36, 37, 38, 39,\n",
       "       40, 41, 42, 43, 44, 45, 46, 47, 48, 49, 50, 51, 52, 53, 54, 55])"
      ]
     },
     "execution_count": 80,
     "metadata": {},
     "output_type": "execute_result"
    }
   ],
   "source": [
    "#\tAdd 5 to every element of a 1D array.\n",
    "k=arr+5\n",
    "k"
   ]
  },
  {
   "cell_type": "code",
   "execution_count": 81,
   "id": "4ce52731-becf-4acf-b0b8-5f577495904d",
   "metadata": {},
   "outputs": [
    {
     "data": {
      "text/plain": [
       "array([[ 5, 12],\n",
       "       [21, 32]])"
      ]
     },
     "execution_count": 81,
     "metadata": {},
     "output_type": "execute_result"
    }
   ],
   "source": [
    "#\tMultiply two 2D arrays element-wise.\n",
    "arr1=np.array([[1,2],[3,4]])\n",
    "arr2=np.array([[5,6],[7,8]])\n",
    "mul=arr1*arr2\n",
    "mul"
   ]
  },
  {
   "cell_type": "code",
   "execution_count": 82,
   "id": "0189c5ef-c839-4f17-90ef-33a9faad216f",
   "metadata": {},
   "outputs": [
    {
     "data": {
      "text/plain": [
       "array([[ 1,  2,  3,  4,  5],\n",
       "       [ 6,  7,  8,  9, 10],\n",
       "       [11, 12, 13, 14, 15],\n",
       "       [16, 17, 18, 19, 20],\n",
       "       [21, 22, 23, 24, 25]])"
      ]
     },
     "execution_count": 82,
     "metadata": {},
     "output_type": "execute_result"
    }
   ],
   "source": [
    "#o\tCreate a 5x5 array of integers from 1 to 25. Extract:\n",
    "#The first row.\n",
    "#\tThe last column.\n",
    "#\tA subarray of the first three rows and first two columns\n",
    "\n",
    "five_array=np.array([[1,2,3,4,5],[6,7,8,9,10],[11,12,13,14,15],[16,17,18,19,20],[21,22,23,24,25]])\n",
    "five_array\n"
   ]
  },
  {
   "cell_type": "code",
   "execution_count": 83,
   "id": "0acc0a45-1ff0-4318-9863-b0e9042072dd",
   "metadata": {},
   "outputs": [
    {
     "name": "stdout",
     "output_type": "stream",
     "text": [
      "[[1 2 3 4 5]]\n"
     ]
    }
   ],
   "source": [
    "\n",
    "print(five_array[0:1,0:5])"
   ]
  },
  {
   "cell_type": "code",
   "execution_count": 84,
   "id": "e25d3342-abfa-4d75-bc64-f54e7ad2dcb2",
   "metadata": {},
   "outputs": [
    {
     "name": "stdout",
     "output_type": "stream",
     "text": [
      "[[ 5]\n",
      " [10]\n",
      " [15]\n",
      " [20]\n",
      " [25]]\n"
     ]
    }
   ],
   "source": [
    "\n",
    "print(five_array[0:5,4:5])"
   ]
  },
  {
   "cell_type": "code",
   "execution_count": 85,
   "id": "5b99a86b-8d25-4a1a-a0b3-033e90205b16",
   "metadata": {},
   "outputs": [
    {
     "name": "stdout",
     "output_type": "stream",
     "text": [
      "[[ 1  2]\n",
      " [ 6  7]\n",
      " [11 12]]\n"
     ]
    }
   ],
   "source": [
    "\n",
    "print(five_array[0:3,0:2])"
   ]
  },
  {
   "cell_type": "code",
   "execution_count": 86,
   "id": "129b183f-6ab1-4ca0-ba20-3f1ee7be8407",
   "metadata": {},
   "outputs": [
    {
     "name": "stdout",
     "output_type": "stream",
     "text": [
      "[70 93 81 13 95 12 50 26 39 25]\n",
      "95\n",
      "12\n",
      "50.4\n",
      "30.607842132368624\n"
     ]
    }
   ],
   "source": [
    "\n",
    "#\tCreate a 10-element array of random integers between 1 and 100. Find:\n",
    "#\tThe maximum value.\n",
    "#\tThe minimum value.\n",
    "#\tThe mean and standard deviation.\n",
    "a=np.random.randint(1,100,10)\n",
    "print(a)\n",
    "max_value=a.max()\n",
    "print(max_value)\n",
    "min_value=a.min()\n",
    "print(min_value)\n",
    "mean=a.mean()\n",
    "print(mean)\n",
    "standard_deviation=a.std()\n",
    "\n",
    "print(standard_deviation)"
   ]
  },
  {
   "cell_type": "code",
   "execution_count": 87,
   "id": "ab6b7542-41d7-4d41-a5c9-7b2ad9f2f539",
   "metadata": {},
   "outputs": [
    {
     "data": {
      "text/plain": [
       "array([[ 0,  1,  2,  3],\n",
       "       [ 4,  5,  6,  7],\n",
       "       [ 8,  9, 10, 11]])"
      ]
     },
     "execution_count": 87,
     "metadata": {},
     "output_type": "execute_result"
    }
   ],
   "source": [
    "#o\tConvert a 1D array of numbers from 1 to 12 into a 3x4 matrix.\n",
    "\n",
    "array=np.arange(12)\n",
    "k=array.reshape(3,4)\n",
    "k"
   ]
  },
  {
   "cell_type": "code",
   "execution_count": 88,
   "id": "5e280d48-4cc8-45cd-ad33-43b8bda6b77b",
   "metadata": {},
   "outputs": [
    {
     "data": {
      "text/plain": [
       "array([[2., 3., 4.],\n",
       "       [2., 3., 4.],\n",
       "       [2., 3., 4.]])"
      ]
     },
     "execution_count": 88,
     "metadata": {},
     "output_type": "execute_result"
    }
   ],
   "source": [
    "#o\tCreate a 3x3 matrix of ones. Add a 1D array [1, 2, 3] to each row.\n",
    "ones_array=np.ones((3,3))\n",
    "\n",
    "one_d_array=np.array([1,2,3])\n",
    "result=ones_array+one_d_array\n",
    "result\n"
   ]
  },
  {
   "cell_type": "code",
   "execution_count": 89,
   "id": "c33f6f43-6c29-4ecf-9371-cce53db3d9e6",
   "metadata": {},
   "outputs": [
    {
     "data": {
      "text/plain": [
       "array([ 5, 10, 15, 20, 25, 30, 35, 40, 45, 50])"
      ]
     },
     "execution_count": 89,
     "metadata": {},
     "output_type": "execute_result"
    }
   ],
   "source": [
    "#o\tCreate a 1D array of random integers between 1 and 50. Extract all elements that are divisible by 5.\n",
    "arr=np.arange(1,51)\n",
    "arr_divide_five=arr[arr%5==0]\n",
    "\n",
    "arr_divide_five\n"
   ]
  },
  {
   "cell_type": "code",
   "execution_count": 90,
   "id": "22ce4bf2-b076-4076-8bc1-481b5ff1f6fe",
   "metadata": {},
   "outputs": [
    {
     "data": {
      "text/plain": [
       "array([[19, 22],\n",
       "       [43, 50]])"
      ]
     },
     "execution_count": 90,
     "metadata": {},
     "output_type": "execute_result"
    }
   ],
   "source": [
    "#o\tCreate two 2x2 matrices and perform matrix multiplication.\n",
    "arr1=np.array([[1,2],[3,4]])\n",
    "arr2=np.array([[5,6],[7,8]])\n",
    "result=np.dot(arr1,arr2)\n",
    "result"
   ]
  },
  {
   "cell_type": "code",
   "execution_count": 91,
   "id": "e4f87560-0bae-4580-a878-d486d3e0a33e",
   "metadata": {},
   "outputs": [
    {
     "data": {
      "text/plain": [
       "array([ 1,  7, 13, 19])"
      ]
     },
     "execution_count": 91,
     "metadata": {},
     "output_type": "execute_result"
    }
   ],
   "source": [
    "#o\tGiven a 4x4 array, use fancy indexing to extract the diagonal elements.\n",
    "four_array=np.array([[1,2,3,4],[6,7,8,9,],[11,12,13,14],[16,17,18,19]])\n",
    "diag=np.diagonal(four_array)\n",
    "diag"
   ]
  },
  {
   "cell_type": "code",
   "execution_count": null,
   "id": "e6d3bcbe-1822-4779-b8d5-bd2a1ba3a435",
   "metadata": {},
   "outputs": [],
   "source": []
  },
  {
   "cell_type": "code",
   "execution_count": null,
   "id": "59933030-37b9-4bf2-b845-b87398a65175",
   "metadata": {},
   "outputs": [],
   "source": []
  }
 ],
 "metadata": {
  "kernelspec": {
   "display_name": "Python 3 (ipykernel)",
   "language": "python",
   "name": "python3"
  },
  "language_info": {
   "codemirror_mode": {
    "name": "ipython",
    "version": 3
   },
   "file_extension": ".py",
   "mimetype": "text/x-python",
   "name": "python",
   "nbconvert_exporter": "python",
   "pygments_lexer": "ipython3",
   "version": "3.13.1"
  }
 },
 "nbformat": 4,
 "nbformat_minor": 5
}
